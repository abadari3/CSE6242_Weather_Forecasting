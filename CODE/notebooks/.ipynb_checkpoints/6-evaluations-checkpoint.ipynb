{
 "cells": [
  {
   "cell_type": "markdown",
   "metadata": {},
   "source": [
    "## Experiments and Evaluation\n",
    "\n",
    "We can compare to baseline weather prediction models. A persistence baseline is one where tomorrow's prediction is today's weather. A climatology forecast baseline averages historical data for a prediction that matches the climate of the region, but pays no attention to the dynamism of day to day weather. Finally, we can perform more standard metrics-based evaluation as is typical of machine learning models. \n",
    "\n",
    "For the prediction performance, root mean squared error and accuracy are used to evaluate between prediction values for temperature and precipitation and the weather records. Further, tracking signal is used for detecting whether bias changes in our model.\n",
    "$$\\text{RMSE} =  \\sqrt{\\frac{1}{T} \\sum_{t = 1}^{T} \\left(\\hat{y}_t - y_t \\right)^2}$$\n",
    "\n",
    "A common method to evaluate weather prediction models is root mean squared error (RMSE). A smaller RMSE is optimal because it signifies a smaller magnitude of error. As more predictions are generated for future points in time, we will be able to graph how RMSE changes. It is generally difficult to predict weather after 10 days, so we expect the RMSE to increase as more predictions are made, and we may anticipate a spike in RMSE after 10 days. Our team plans to evaluate the validity of this statement based on newer models.\n",
    "\n",
    "Accuracy could be another method to evaluate time series prediction. Besides judging from the magnitude of accuracy, the tendency of accuracy change in the long forecasting could reflect the stability of our model. Small slope of accuracy curve indicates smoothly decreasing of accuracy in terms of prediction period.   \n",
    "While RMSE captures the magnitude of error, it does not evaluate bias. In order to determine whether our model is consistently making the same type of error (e.g. the model constantly overpredicts temperature), we will also keep track of the tracking signal (TS), which is calculated by the following equation.\n",
    "\n",
    "$$\\text{Tracking Signal} =  \\frac{1}{\\text{MAD}} \\sum_{t = 1}^{T} \\left(a_t - f_t \\right)^2 $$\n",
    "\n",
    "$$\\text{MAD} =  \\frac{1}{n} \\sum_{t = 1}^{T} | \\hat{y}_t - y_t |$$\n",
    "\n",
    "A TS of greater than 4 or less than -- 4 indicates the presence of consistent bias in our predictions, so such TS's necessitate the revision of our models to be more complex. We do not foresee this being a problem, since the models we will be using are highly parameterized, but weather is a complicated phenomenon with numerous interactions, so our models may not be able to capture all of the relations and patterns between climate factors, especially as we predict weather farther from the present."
   ]
  },
  {
   "cell_type": "markdown",
   "metadata": {},
   "source": [
    "### Imports and reading in temperature and precipitation predictions"
   ]
  },
  {
   "cell_type": "code",
   "execution_count": 1,
   "metadata": {},
   "outputs": [],
   "source": [
    "import pandas as pd\n",
    "import requests\n",
    "import io\n",
    "    \n",
    "url1 = \"https://raw.githubusercontent.com/abadari3/CSE6242_Weather_Forecasting/main/CODE/forecasts/precipitation_forecasts.csv\" # Make sure the url is the raw version of the file on GitHub\n",
    "download1 = requests.get(url1).content\n",
    "precipitation = pd.read_csv(io.StringIO(download1.decode('utf-8')))\n",
    "\n",
    "url2 = \"https://raw.githubusercontent.com/abadari3/CSE6242_Weather_Forecasting/main/CODE/forecasts/temperature_forecasts.csv\"\n",
    "download2 = requests.get(url2).content\n",
    "temperature = pd.read_csv(io.StringIO(download2.decode('utf-8')))"
   ]
  },
  {
   "cell_type": "code",
   "execution_count": 2,
   "metadata": {},
   "outputs": [
    {
     "data": {
      "text/html": [
       "<div>\n",
       "<style scoped>\n",
       "    .dataframe tbody tr th:only-of-type {\n",
       "        vertical-align: middle;\n",
       "    }\n",
       "\n",
       "    .dataframe tbody tr th {\n",
       "        vertical-align: top;\n",
       "    }\n",
       "\n",
       "    .dataframe thead th {\n",
       "        text-align: right;\n",
       "    }\n",
       "</style>\n",
       "<table border=\"1\" class=\"dataframe\">\n",
       "  <thead>\n",
       "    <tr style=\"text-align: right;\">\n",
       "      <th></th>\n",
       "      <th>time</th>\n",
       "      <th>lat</th>\n",
       "      <th>lon</th>\n",
       "      <th>cnn</th>\n",
       "      <th>persistence</th>\n",
       "      <th>ann</th>\n",
       "      <th>resnet</th>\n",
       "      <th>climatology</th>\n",
       "      <th>linreg</th>\n",
       "      <th>true</th>\n",
       "    </tr>\n",
       "  </thead>\n",
       "  <tbody>\n",
       "    <tr>\n",
       "      <th>0</th>\n",
       "      <td>2018-12-02 00:00:00</td>\n",
       "      <td>19.6875</td>\n",
       "      <td>-129.375</td>\n",
       "      <td>23.539154</td>\n",
       "      <td>22.628998</td>\n",
       "      <td>23.539154</td>\n",
       "      <td>22.525696</td>\n",
       "      <td>20.562073</td>\n",
       "      <td>22.635956</td>\n",
       "      <td>22.199127</td>\n",
       "    </tr>\n",
       "    <tr>\n",
       "      <th>1</th>\n",
       "      <td>2018-12-02 00:00:00</td>\n",
       "      <td>19.6875</td>\n",
       "      <td>-123.750</td>\n",
       "      <td>23.362488</td>\n",
       "      <td>22.402191</td>\n",
       "      <td>23.362488</td>\n",
       "      <td>21.948486</td>\n",
       "      <td>20.387848</td>\n",
       "      <td>22.236237</td>\n",
       "      <td>21.710602</td>\n",
       "    </tr>\n",
       "    <tr>\n",
       "      <th>2</th>\n",
       "      <td>2018-12-02 00:00:00</td>\n",
       "      <td>19.6875</td>\n",
       "      <td>-118.125</td>\n",
       "      <td>23.290802</td>\n",
       "      <td>22.865631</td>\n",
       "      <td>23.290802</td>\n",
       "      <td>22.185303</td>\n",
       "      <td>20.970978</td>\n",
       "      <td>22.797913</td>\n",
       "      <td>21.457000</td>\n",
       "    </tr>\n",
       "    <tr>\n",
       "      <th>3</th>\n",
       "      <td>2018-12-02 00:00:00</td>\n",
       "      <td>19.6875</td>\n",
       "      <td>-112.500</td>\n",
       "      <td>24.537994</td>\n",
       "      <td>25.372528</td>\n",
       "      <td>24.537994</td>\n",
       "      <td>23.614227</td>\n",
       "      <td>23.275848</td>\n",
       "      <td>25.416962</td>\n",
       "      <td>22.807190</td>\n",
       "    </tr>\n",
       "    <tr>\n",
       "      <th>4</th>\n",
       "      <td>2018-12-02 00:00:00</td>\n",
       "      <td>19.6875</td>\n",
       "      <td>-106.875</td>\n",
       "      <td>27.547943</td>\n",
       "      <td>28.456604</td>\n",
       "      <td>27.547943</td>\n",
       "      <td>25.080658</td>\n",
       "      <td>26.250030</td>\n",
       "      <td>28.418701</td>\n",
       "      <td>25.449890</td>\n",
       "    </tr>\n",
       "  </tbody>\n",
       "</table>\n",
       "</div>"
      ],
      "text/plain": [
       "                  time      lat      lon        cnn  persistence        ann  \\\n",
       "0  2018-12-02 00:00:00  19.6875 -129.375  23.539154    22.628998  23.539154   \n",
       "1  2018-12-02 00:00:00  19.6875 -123.750  23.362488    22.402191  23.362488   \n",
       "2  2018-12-02 00:00:00  19.6875 -118.125  23.290802    22.865631  23.290802   \n",
       "3  2018-12-02 00:00:00  19.6875 -112.500  24.537994    25.372528  24.537994   \n",
       "4  2018-12-02 00:00:00  19.6875 -106.875  27.547943    28.456604  27.547943   \n",
       "\n",
       "      resnet  climatology     linreg       true  \n",
       "0  22.525696    20.562073  22.635956  22.199127  \n",
       "1  21.948486    20.387848  22.236237  21.710602  \n",
       "2  22.185303    20.970978  22.797913  21.457000  \n",
       "3  23.614227    23.275848  25.416962  22.807190  \n",
       "4  25.080658    26.250030  28.418701  25.449890  "
      ]
     },
     "execution_count": 2,
     "metadata": {},
     "output_type": "execute_result"
    }
   ],
   "source": [
    "temperature.head()"
   ]
  },
  {
   "cell_type": "markdown",
   "metadata": {},
   "source": [
    "## RMSE and Tracking Signal Calculation"
   ]
  },
  {
   "cell_type": "code",
   "execution_count": 3,
   "metadata": {},
   "outputs": [],
   "source": [
    "from sklearn.metrics import mean_squared_error\n",
    "from math import sqrt"
   ]
  },
  {
   "cell_type": "code",
   "execution_count": 4,
   "metadata": {},
   "outputs": [],
   "source": [
    "def print_rmse(temp_bool, model):\n",
    "    '''\n",
    "    temp_bool(Boolean) = True if temperature, False if precipitation\n",
    "    model(string) = model type\n",
    "    \n",
    "    '''\n",
    "    \n",
    "    if temp_bool == True:\n",
    "        temp_rmse = sqrt(mean_squared_error(temperature['true'], temperature[model]))\n",
    "        print(\"RMSE for {} temperature predictions: {}\".format(model, temp_rmse))\n",
    "    else:\n",
    "        prec_rmse = sqrt(mean_squared_error(precipitation['true'], precipitation[model]))\n",
    "        print(\"RMSE for {} precipitation predictions: {}\".format(model, prec_rmse))\n",
    "        \n",
    "def print_ts(temp_bool, model):\n",
    "    '''\n",
    "    temp_bool(Boolean) = True if temperature, False if precipitation\n",
    "    model(string) = model type\n",
    "    \n",
    "    '''\n",
    "    if temp_bool == True:\n",
    "        all_errors = sum(temperature['true'] - temperature[model])\n",
    "        mad = sum(abs(temperature['true'] - temperature[model]))/len(temperature)\n",
    "        ptype = \"temperature\"\n",
    "    else:\n",
    "        all_errors = sum(precipitation['true'] - precipitation[model])\n",
    "        mad = sum(abs(precipitation['true'] - precipitation[model]))/len(precipitation)\n",
    "        ptype = \"precipitation\"\n",
    "    \n",
    "    ts = all_errors/mad\n",
    "    print(\"Tracking signal for {} {} predictions: {}\".format(model, ptype ,ts))\n",
    "        \n",
    "    "
   ]
  },
  {
   "cell_type": "markdown",
   "metadata": {},
   "source": [
    "### Temperature RMSE"
   ]
  },
  {
   "cell_type": "code",
   "execution_count": 5,
   "metadata": {},
   "outputs": [
    {
     "name": "stdout",
     "output_type": "stream",
     "text": [
      "RMSE for persistence temperature predictions: 4.9583805972551\n",
      "RMSE for climatology temperature predictions: 6.49339788733541\n",
      "RMSE for linreg temperature predictions: 4.892994529497044\n",
      "RMSE for cnn temperature predictions: 5.7868537805016915\n",
      "RMSE for ann temperature predictions: 5.7868537805016915\n",
      "RMSE for resnet temperature predictions: 4.999527295761126\n"
     ]
    }
   ],
   "source": [
    "for i in (\"persistence\", \"climatology\", \"linreg\", \"cnn\", \"ann\", \"resnet\"):\n",
    "    print_rmse(True, i)"
   ]
  },
  {
   "cell_type": "markdown",
   "metadata": {},
   "source": [
    "### Precipitation RMSE"
   ]
  },
  {
   "cell_type": "code",
   "execution_count": 6,
   "metadata": {},
   "outputs": [
    {
     "name": "stdout",
     "output_type": "stream",
     "text": [
      "RMSE for persistence precipitation predictions: 0.0005516139134835328\n",
      "RMSE for climatology precipitation predictions: 0.0006100854097530354\n",
      "RMSE for linreg precipitation predictions: 0.0005565754581052383\n",
      "RMSE for cnn precipitation predictions: 0.000567829215889841\n",
      "RMSE for ann precipitation predictions: 0.000567829215889841\n",
      "RMSE for resnet precipitation predictions: 0.0005472448111353846\n"
     ]
    }
   ],
   "source": [
    "for i in (\"persistence\", \"climatology\", \"linreg\", \"cnn\", \"ann\", \"resnet\"):\n",
    "    print_rmse(False, i)"
   ]
  },
  {
   "cell_type": "markdown",
   "metadata": {},
   "source": [
    "### Temperature Tracking Signal"
   ]
  },
  {
   "cell_type": "code",
   "execution_count": 7,
   "metadata": {},
   "outputs": [
    {
     "name": "stdout",
     "output_type": "stream",
     "text": [
      "Tracking signal for persistence temperature predictions: 0.06603150205992935\n",
      "Tracking signal for climatology temperature predictions: 0.05635253708021157\n",
      "Tracking signal for linreg temperature predictions: 0.0738529089045817\n",
      "Tracking signal for cnn temperature predictions: 0.061988041274314364\n",
      "Tracking signal for ann temperature predictions: 0.061988041274314364\n",
      "Tracking signal for resnet temperature predictions: 0.06762291026829927\n"
     ]
    }
   ],
   "source": [
    "for i in (\"persistence\", \"climatology\", \"linreg\", \"cnn\", \"ann\", \"resnet\"):\n",
    "    print_ts(True, i)"
   ]
  },
  {
   "cell_type": "markdown",
   "metadata": {},
   "source": [
    "### Precipitation Tracking Signal"
   ]
  },
  {
   "cell_type": "code",
   "execution_count": 8,
   "metadata": {},
   "outputs": [
    {
     "name": "stdout",
     "output_type": "stream",
     "text": [
      "Tracking signal for persistence precipitation predictions: -0.0016770312978774333\n",
      "Tracking signal for climatology precipitation predictions: -0.0007930622523108693\n",
      "Tracking signal for linreg precipitation predictions: -0.0005018885755302876\n",
      "Tracking signal for cnn precipitation predictions: -0.0023040368649207693\n",
      "Tracking signal for ann precipitation predictions: -0.0023040368649207693\n",
      "Tracking signal for resnet precipitation predictions: -0.0015872437058931988\n"
     ]
    }
   ],
   "source": [
    "for i in (\"persistence\", \"climatology\", \"linreg\", \"cnn\", \"ann\", \"resnet\"):\n",
    "    print_ts(False, i)"
   ]
  },
  {
   "cell_type": "markdown",
   "metadata": {},
   "source": [
    "## Plotting RMSE with respect to days passed"
   ]
  },
  {
   "cell_type": "code",
   "execution_count": 12,
   "metadata": {},
   "outputs": [],
   "source": [
    "import matplotlib.pyplot as plt"
   ]
  },
  {
   "cell_type": "code",
   "execution_count": 31,
   "metadata": {},
   "outputs": [],
   "source": [
    "def plot_rmse_progression(latitude, longitude, model):\n",
    "    '''\n",
    "    plots the progression of RMSE with respect to days passed\n",
    "    \n",
    "    params\n",
    "        longitude, latitude: the location of predictions made. must be a valid coordinate\n",
    "        model: the model whose RMSE to plot\n",
    "    '''\n",
    "    temp_short = temperature[(temperature[\"lat\"] == latitude) & (temperature[\"lon\"] == longitude)]\n",
    "    running_rmse = []\n",
    "    \n",
    "    for i in range(1,len(temp_short)):\n",
    "        tm = temp_short[:i]\n",
    "        rmse = sqrt(mean_squared_error(tm['true'], tm[model]))\n",
    "        running_rmse.append(rmse)\n",
    "\n",
    "\n",
    "    days_passed = range(1, len(temp_short))\n",
    "\n",
    "    plt.plot(days_passed, running_rmse)\n",
    "    plt.xlabel('Days Passed')\n",
    "    plt.ylabel('RMSE')\n",
    "    plt.title(\"RMSE Progression\")\n",
    "    plt.show()\n",
    "\n",
    "\n"
   ]
  },
  {
   "cell_type": "code",
   "execution_count": 32,
   "metadata": {},
   "outputs": [
    {
     "data": {
      "image/png": "[encoded data removed]",
      "text/plain": [
       "<Figure size 432x288 with 1 Axes>"
      ]
     },
     "metadata": {
      "needs_background": "light"
     },
     "output_type": "display_data"
    }
   ],
   "source": [
    "plot_rmse_progression(19.6875, -129.375, \"resnet\")"
   ]
  },
  {
   "cell_type": "code",
   "execution_count": null,
   "metadata": {},
   "outputs": [],
   "source": []
  }
 ],
 "metadata": {
  "kernelspec": {
   "display_name": "Python 3 (ipykernel)",
   "language": "python",
   "name": "python3"
  },
  "language_info": {
   "codemirror_mode": {
    "name": "ipython",
    "version": 3
   },
   "file_extension": ".py",
   "mimetype": "text/x-python",
   "name": "python",
   "nbconvert_exporter": "python",
   "pygments_lexer": "ipython3",
   "version": "3.9.1"
  }
 },
 "nbformat": 4,
 "nbformat_minor": 2
}
