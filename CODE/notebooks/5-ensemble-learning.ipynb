{
 "cells": [
  {
   "cell_type": "code",
   "execution_count": 1,
   "metadata": {},
   "outputs": [
    {
     "name": "stderr",
     "output_type": "stream",
     "text": [
      "/home/ubuntu/miniconda3/envs/weather/lib/python3.8/site-packages/ecmwflibs/__init__.py:83: UserWarning: /lib/x86_64-linux-gnu/libgobject-2.0.so.0: undefined symbol: ffi_type_uint32, version LIBFFI_BASE_7.0\n",
      "  warnings.warn(str(e))\n",
      "/home/ubuntu/miniconda3/envs/weather/lib/python3.8/site-packages/xarray/backends/cfgrib_.py:27: UserWarning: Failed to load cfgrib - most likely there is a problem accessing the ecCodes library. Try `import cfgrib` to get the full error message\n",
      "  warnings.warn(\n"
     ]
    }
   ],
   "source": [
    "import xarray as xr\n",
    "import climetlab as cml\n",
    "import numpy as np\n",
    "from src.utils import *\n",
    "import pandas as pd"
   ]
  },
  {
   "cell_type": "markdown",
   "metadata": {},
   "source": [
    "# Ensemble Learning\n",
    "\n",
    "## Stacked Generalization"
   ]
  },
  {
   "cell_type": "markdown",
   "metadata": {},
   "source": [
    "[good resource](https://machinelearningmastery.com/implementing-stacking-scratch-python/)\n",
    "\n",
    "We use the results of our previous models as a feature set, and train a Linear or Logistic Regression model on it. \n",
    "\n",
    "Models used as features:\n",
    "- Climatology\n",
    "- Persistence\n",
    "- Convolutional Neural Network\n",
    "- Artificial Neural Network\n",
    "- Residual Neural Network"
   ]
  },
  {
   "cell_type": "code",
   "execution_count": 2,
   "metadata": {},
   "outputs": [
    {
     "data": {
      "text/html": [
       "<div>\n",
       "<style scoped>\n",
       "    .dataframe tbody tr th:only-of-type {\n",
       "        vertical-align: middle;\n",
       "    }\n",
       "\n",
       "    .dataframe tbody tr th {\n",
       "        vertical-align: top;\n",
       "    }\n",
       "\n",
       "    .dataframe thead th {\n",
       "        text-align: right;\n",
       "    }\n",
       "</style>\n",
       "<table border=\"1\" class=\"dataframe\">\n",
       "  <thead>\n",
       "    <tr style=\"text-align: right;\">\n",
       "      <th></th>\n",
       "      <th>time</th>\n",
       "      <th>lat</th>\n",
       "      <th>lon</th>\n",
       "      <th>cnn</th>\n",
       "      <th>persistence</th>\n",
       "      <th>ann</th>\n",
       "      <th>resnet</th>\n",
       "      <th>climatology</th>\n",
       "      <th>linreg</th>\n",
       "      <th>true</th>\n",
       "    </tr>\n",
       "  </thead>\n",
       "  <tbody>\n",
       "    <tr>\n",
       "      <th>0</th>\n",
       "      <td>2018-12-02 00:00:00</td>\n",
       "      <td>19.6875</td>\n",
       "      <td>-129.375</td>\n",
       "      <td>23.539154</td>\n",
       "      <td>22.628998</td>\n",
       "      <td>23.539154</td>\n",
       "      <td>22.525696</td>\n",
       "      <td>20.562073</td>\n",
       "      <td>22.635956</td>\n",
       "      <td>22.199127</td>\n",
       "    </tr>\n",
       "    <tr>\n",
       "      <th>1</th>\n",
       "      <td>2018-12-02 00:00:00</td>\n",
       "      <td>19.6875</td>\n",
       "      <td>-123.750</td>\n",
       "      <td>23.362488</td>\n",
       "      <td>22.402191</td>\n",
       "      <td>23.362488</td>\n",
       "      <td>21.948486</td>\n",
       "      <td>20.387848</td>\n",
       "      <td>22.236237</td>\n",
       "      <td>21.710602</td>\n",
       "    </tr>\n",
       "    <tr>\n",
       "      <th>2</th>\n",
       "      <td>2018-12-02 00:00:00</td>\n",
       "      <td>19.6875</td>\n",
       "      <td>-118.125</td>\n",
       "      <td>23.290802</td>\n",
       "      <td>22.865631</td>\n",
       "      <td>23.290802</td>\n",
       "      <td>22.185303</td>\n",
       "      <td>20.970978</td>\n",
       "      <td>22.797913</td>\n",
       "      <td>21.457000</td>\n",
       "    </tr>\n",
       "    <tr>\n",
       "      <th>3</th>\n",
       "      <td>2018-12-02 00:00:00</td>\n",
       "      <td>19.6875</td>\n",
       "      <td>-112.500</td>\n",
       "      <td>24.537994</td>\n",
       "      <td>25.372528</td>\n",
       "      <td>24.537994</td>\n",
       "      <td>23.614227</td>\n",
       "      <td>23.275848</td>\n",
       "      <td>25.416962</td>\n",
       "      <td>22.807190</td>\n",
       "    </tr>\n",
       "    <tr>\n",
       "      <th>4</th>\n",
       "      <td>2018-12-02 00:00:00</td>\n",
       "      <td>19.6875</td>\n",
       "      <td>-106.875</td>\n",
       "      <td>27.547943</td>\n",
       "      <td>28.456604</td>\n",
       "      <td>27.547943</td>\n",
       "      <td>25.080658</td>\n",
       "      <td>26.250030</td>\n",
       "      <td>28.418701</td>\n",
       "      <td>25.449890</td>\n",
       "    </tr>\n",
       "    <tr>\n",
       "      <th>...</th>\n",
       "      <td>...</td>\n",
       "      <td>...</td>\n",
       "      <td>...</td>\n",
       "      <td>...</td>\n",
       "      <td>...</td>\n",
       "      <td>...</td>\n",
       "      <td>...</td>\n",
       "      <td>...</td>\n",
       "      <td>...</td>\n",
       "      <td>...</td>\n",
       "    </tr>\n",
       "    <tr>\n",
       "      <th>65515</th>\n",
       "      <td>2018-12-31 23:00:00</td>\n",
       "      <td>53.4375</td>\n",
       "      <td>-84.375</td>\n",
       "      <td>-13.972565</td>\n",
       "      <td>-13.058136</td>\n",
       "      <td>-13.972565</td>\n",
       "      <td>-17.864258</td>\n",
       "      <td>-9.779297</td>\n",
       "      <td>-7.108337</td>\n",
       "      <td>-31.794373</td>\n",
       "    </tr>\n",
       "    <tr>\n",
       "      <th>65516</th>\n",
       "      <td>2018-12-31 23:00:00</td>\n",
       "      <td>53.4375</td>\n",
       "      <td>-78.750</td>\n",
       "      <td>-13.108978</td>\n",
       "      <td>-12.339111</td>\n",
       "      <td>-13.108978</td>\n",
       "      <td>-15.618896</td>\n",
       "      <td>-9.195404</td>\n",
       "      <td>-6.959992</td>\n",
       "      <td>-29.186462</td>\n",
       "    </tr>\n",
       "    <tr>\n",
       "      <th>65517</th>\n",
       "      <td>2018-12-31 23:00:00</td>\n",
       "      <td>53.4375</td>\n",
       "      <td>-73.125</td>\n",
       "      <td>-14.566071</td>\n",
       "      <td>-17.471283</td>\n",
       "      <td>-14.566071</td>\n",
       "      <td>-16.486969</td>\n",
       "      <td>-12.881866</td>\n",
       "      <td>-11.153992</td>\n",
       "      <td>-21.048325</td>\n",
       "    </tr>\n",
       "    <tr>\n",
       "      <th>65518</th>\n",
       "      <td>2018-12-31 23:00:00</td>\n",
       "      <td>53.4375</td>\n",
       "      <td>-67.500</td>\n",
       "      <td>-15.086334</td>\n",
       "      <td>-21.812088</td>\n",
       "      <td>-15.086334</td>\n",
       "      <td>-16.945892</td>\n",
       "      <td>-20.047516</td>\n",
       "      <td>-16.290161</td>\n",
       "      <td>-25.490463</td>\n",
       "    </tr>\n",
       "    <tr>\n",
       "      <th>65519</th>\n",
       "      <td>2018-12-31 23:00:00</td>\n",
       "      <td>53.4375</td>\n",
       "      <td>-61.875</td>\n",
       "      <td>-15.616119</td>\n",
       "      <td>-19.296143</td>\n",
       "      <td>-15.616119</td>\n",
       "      <td>-13.910980</td>\n",
       "      <td>-20.571014</td>\n",
       "      <td>-15.882172</td>\n",
       "      <td>-29.807785</td>\n",
       "    </tr>\n",
       "  </tbody>\n",
       "</table>\n",
       "<p>65520 rows × 10 columns</p>\n",
       "</div>"
      ],
      "text/plain": [
       "                      time      lat      lon        cnn  persistence  \\\n",
       "0      2018-12-02 00:00:00  19.6875 -129.375  23.539154    22.628998   \n",
       "1      2018-12-02 00:00:00  19.6875 -123.750  23.362488    22.402191   \n",
       "2      2018-12-02 00:00:00  19.6875 -118.125  23.290802    22.865631   \n",
       "3      2018-12-02 00:00:00  19.6875 -112.500  24.537994    25.372528   \n",
       "4      2018-12-02 00:00:00  19.6875 -106.875  27.547943    28.456604   \n",
       "...                    ...      ...      ...        ...          ...   \n",
       "65515  2018-12-31 23:00:00  53.4375  -84.375 -13.972565   -13.058136   \n",
       "65516  2018-12-31 23:00:00  53.4375  -78.750 -13.108978   -12.339111   \n",
       "65517  2018-12-31 23:00:00  53.4375  -73.125 -14.566071   -17.471283   \n",
       "65518  2018-12-31 23:00:00  53.4375  -67.500 -15.086334   -21.812088   \n",
       "65519  2018-12-31 23:00:00  53.4375  -61.875 -15.616119   -19.296143   \n",
       "\n",
       "             ann     resnet  climatology     linreg       true  \n",
       "0      23.539154  22.525696    20.562073  22.635956  22.199127  \n",
       "1      23.362488  21.948486    20.387848  22.236237  21.710602  \n",
       "2      23.290802  22.185303    20.970978  22.797913  21.457000  \n",
       "3      24.537994  23.614227    23.275848  25.416962  22.807190  \n",
       "4      27.547943  25.080658    26.250030  28.418701  25.449890  \n",
       "...          ...        ...          ...        ...        ...  \n",
       "65515 -13.972565 -17.864258    -9.779297  -7.108337 -31.794373  \n",
       "65516 -13.108978 -15.618896    -9.195404  -6.959992 -29.186462  \n",
       "65517 -14.566071 -16.486969   -12.881866 -11.153992 -21.048325  \n",
       "65518 -15.086334 -16.945892   -20.047516 -16.290161 -25.490463  \n",
       "65519 -15.616119 -13.910980   -20.571014 -15.882172 -29.807785  \n",
       "\n",
       "[65520 rows x 10 columns]"
      ]
     },
     "execution_count": 2,
     "metadata": {},
     "output_type": "execute_result"
    }
   ],
   "source": [
    "temperature = pd.read_csv(\"../forecasts/temperature_forecasts.csv\")\n",
    "temperature"
   ]
  },
  {
   "cell_type": "code",
   "execution_count": 3,
   "metadata": {},
   "outputs": [
    {
     "data": {
      "text/plain": [
       "['00:00:00',\n",
       " '01:00:00',\n",
       " '02:00:00',\n",
       " '03:00:00',\n",
       " '04:00:00',\n",
       " '05:00:00',\n",
       " '06:00:00',\n",
       " '07:00:00',\n",
       " '08:00:00',\n",
       " '09:00:00',\n",
       " '10:00:00',\n",
       " '11:00:00',\n",
       " '12:00:00',\n",
       " '13:00:00',\n",
       " '14:00:00',\n",
       " '15:00:00',\n",
       " '16:00:00',\n",
       " '17:00:00',\n",
       " '18:00:00',\n",
       " '19:00:00',\n",
       " '20:00:00',\n",
       " '21:00:00',\n",
       " '22:00:00',\n",
       " '23:00:00']"
      ]
     },
     "execution_count": 3,
     "metadata": {},
     "output_type": "execute_result"
    }
   ],
   "source": [
    "times = []\n",
    "for t in temperature.time:\n",
    "    if t[-8:] not in times:\n",
    "        times.append(t[-8:])\n",
    "times"
   ]
  },
  {
   "cell_type": "code",
   "execution_count": null,
   "metadata": {},
   "outputs": [],
   "source": []
  },
  {
   "cell_type": "code",
   "execution_count": 4,
   "metadata": {},
   "outputs": [],
   "source": [
    "def find_k(k):\n",
    "    train_times = times[::2]\n",
    "    test_times = list(set(times) - set(train_times))\n",
    "    weights = []\n",
    "    for i, t in enumerate(train_times):\n",
    "        valid_times = np.array([np.array([i for i in range(91)])+(k*24+i)*91 for k in range(5)]).flatten()\n",
    "        working_data = temperature.iloc[valid_times][['lat', 'lon', 'cnn', 'ann', 'resnet', 'climatology']]\n",
    "        y = temperature.iloc[valid_times][['true']]\n",
    "        A = np.array(working_data)\n",
    "        w = np.linalg.inv(A.T@A + k*np.identity(6))@A.T@y\n",
    "        weights.append(np.array(w))\n",
    "    preds = []\n",
    "    losses = []\n",
    "    for i, t in enumerate(test_times):\n",
    "        valid_times = np.array([np.array([i for i in range(91)])+(k*24+i)*91 for k in range(5)]).flatten()\n",
    "        working_data = temperature.iloc[valid_times][['lat', 'lon', 'cnn', 'ann', 'resnet', 'climatology']]\n",
    "        y = temperature.iloc[valid_times][['true']]\n",
    "        A = np.array(working_data)\n",
    "        preds.append(A@weights[i])\n",
    "        l = A@weights[i] - np.array(y)\n",
    "        losses.append(l.T@l.flatten())\n",
    "    return preds, np.sum(np.array(losses).flatten())"
   ]
  },
  {
   "cell_type": "code",
   "execution_count": 5,
   "metadata": {
    "scrolled": false
   },
   "outputs": [
    {
     "data": {
      "text/plain": [
       "0.0002909090909090909"
      ]
     },
     "execution_count": 5,
     "metadata": {},
     "output_type": "execute_result"
    },
    {
     "data": {
      "image/png": "[encoded data removed]",
      "text/plain": [
       "<Figure size 640x480 with 1 Axes>"
      ]
     },
     "metadata": {},
     "output_type": "display_data"
    }
   ],
   "source": [
    "import matplotlib.pyplot as plt\n",
    "k = np.linspace(0.0001, 0.001, 100)\n",
    "x = [find_k(i)[1] for i in k]\n",
    "plt.plot(k, x)\n",
    "k[np.argmin(x)]"
   ]
  },
  {
   "cell_type": "code",
   "execution_count": 6,
   "metadata": {},
   "outputs": [],
   "source": [
    "best = np.array(find_k(k[np.argmin(x)])[0]).squeeze()"
   ]
  },
  {
   "cell_type": "code",
   "execution_count": 7,
   "metadata": {},
   "outputs": [
    {
     "data": {
      "text/plain": [
       "array([[ 21.44004693,  20.84911484,  21.44504921, ..., -14.19787437,\n",
       "        -17.01183626, -12.43651296],\n",
       "       [ 20.58541948,  20.06187208,  20.78976815, ..., -14.61540429,\n",
       "        -17.45103271, -12.71230918],\n",
       "       [ 19.59574576,  19.23540864,  20.11897575, ..., -15.21953182,\n",
       "        -17.93715819, -13.36586869],\n",
       "       ...,\n",
       "       [ 18.0281587 ,  17.91397618,  18.94057431, ..., -15.55086981,\n",
       "        -19.06389866, -16.66943439],\n",
       "       [ 18.2409428 ,  18.2892809 ,  19.36732699, ..., -16.23741235,\n",
       "        -19.39237575, -17.31198714],\n",
       "       [ 18.375906  ,  18.38560189,  19.40652211, ..., -16.11712526,\n",
       "        -19.21817548, -17.07589191]])"
      ]
     },
     "execution_count": 7,
     "metadata": {},
     "output_type": "execute_result"
    }
   ],
   "source": [
    "best"
   ]
  },
  {
   "cell_type": "code",
   "execution_count": null,
   "metadata": {},
   "outputs": [],
   "source": []
  },
  {
   "cell_type": "code",
   "execution_count": 8,
   "metadata": {},
   "outputs": [],
   "source": [
    "temperature = pd.read_csv(\"../forecasts/precipitation_forecasts.csv\")\n",
    "times = []\n",
    "for t in temperature.time:\n",
    "    if t[-8:] not in times:\n",
    "        times.append(t[-8:])\n",
    "def find_k(k):\n",
    "    train_times = times[::2]\n",
    "    test_times = list(set(times) - set(train_times))\n",
    "    weights = []\n",
    "    for i, t in enumerate(train_times):\n",
    "        valid_times = np.array([np.array([i for i in range(91)])+(k*24+i)*91 for k in range(5)]).flatten()\n",
    "        working_data = temperature.iloc[valid_times][['lat', 'lon', 'cnn', 'ann', 'resnet', 'climatology']]\n",
    "        y = temperature.iloc[valid_times][['true']]\n",
    "        A = np.array(working_data)\n",
    "        w = np.linalg.inv(A.T@A + k*np.identity(6))@A.T@y\n",
    "        weights.append(np.array(w))\n",
    "    preds = []\n",
    "    losses = []\n",
    "    for i, t in enumerate(test_times):\n",
    "        valid_times = np.array([np.array([i for i in range(91)])+(k*24+i)*91 for k in range(5)]).flatten()\n",
    "        working_data = temperature.iloc[valid_times][['lat', 'lon', 'cnn', 'ann', 'resnet', 'climatology']]\n",
    "        y = temperature.iloc[valid_times][['true']]\n",
    "        A = np.array(working_data)\n",
    "        preds.append(A@weights[i])\n",
    "        l = A@weights[i] - np.array(y)\n",
    "        losses.append(l.T@l.flatten())\n",
    "    return preds, np.sum(np.array(losses).flatten())"
   ]
  },
  {
   "cell_type": "code",
   "execution_count": 9,
   "metadata": {},
   "outputs": [
    {
     "data": {
      "text/plain": [
       "2.0408163363265304e-09"
      ]
     },
     "execution_count": 9,
     "metadata": {},
     "output_type": "execute_result"
    },
    {
     "data": {
      "image/png": "[encoded data removed]",
      "text/plain": [
       "<Figure size 640x480 with 1 Axes>"
      ]
     },
     "metadata": {},
     "output_type": "display_data"
    }
   ],
   "source": [
    "import matplotlib.pyplot as plt\n",
    "k = np.linspace(10**-17, 10**-7, 50)\n",
    "x = [find_k(i)[1] for i in k]\n",
    "plt.plot(np.log(k), x)\n",
    "k[np.argmin(x)]"
   ]
  },
  {
   "cell_type": "code",
   "execution_count": 10,
   "metadata": {
    "scrolled": true
   },
   "outputs": [],
   "source": [
    "best = np.array(find_k(k[np.argmin(x)])[0]).squeeze()"
   ]
  },
  {
   "cell_type": "code",
   "execution_count": null,
   "metadata": {},
   "outputs": [],
   "source": []
  }
 ],
 "metadata": {
  "kernelspec": {
   "display_name": "Python 3 (ipykernel)",
   "language": "python",
   "name": "python3"
  },
  "language_info": {
   "codemirror_mode": {
    "name": "ipython",
    "version": 3
   },
   "file_extension": ".py",
   "mimetype": "text/x-python",
   "name": "python",
   "nbconvert_exporter": "python",
   "pygments_lexer": "ipython3",
   "version": "3.8.15"
  }
 },
 "nbformat": 4,
 "nbformat_minor": 2
}
