{
 "cells": [
  {
   "cell_type": "markdown",
   "metadata": {},
   "source": [
    "### Visualization of Predictions\n",
    "\n",
    "An innovative aspect of our approach is the development of a tool for users to interact with and visualize weather predictions. We will build our tool using R Shiny, which is an R package that facilitates the development of web apps using the R language. Shiny apps can be extended and integrated with CSS, Javascript, and HTML. R Shiny can be used to build standalone apps and dashboards on a webpage or embed them in R Markdown documents, but for our purposes, we will be building a standalone app on a webpage. We currently plan for the user inputs of our tool to be a time period (month, year) and a selection of whether to visualize temperature or precipitation. The month, year can be inputted using a slider widget, to ensure that the time period is within the scope of our predicted range, and the temperature/precipitation can be indicated by the user by using a select box or radio buttons. The visualization output of our tool will be a map that is colored in a gradient by temperature and precipitation levels. The output will be reactive, so the map will change as the user toggles time periods and aspect of weather. "
   ]
  },
  {
   "cell_type": "code",
   "execution_count": null,
   "metadata": {},
   "outputs": [],
   "source": []
  }
 ],
 "metadata": {
  "language_info": {
   "name": "python"
  },
  "orig_nbformat": 4
 },
 "nbformat": 4,
 "nbformat_minor": 2
}
