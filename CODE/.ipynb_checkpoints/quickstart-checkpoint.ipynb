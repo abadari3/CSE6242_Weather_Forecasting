{
 "cells": [
  {
   "cell_type": "code",
   "execution_count": 33,
   "metadata": {
    "scrolled": true
   },
   "outputs": [],
   "source": [
    "# !pip install xarray==0.19.0 \n",
    "# !pip install climetlab\n",
    "# !pip install climetlab_weatherbench\n",
    "# !pip install numexpr=='2.7.3'"
   ]
  },
  {
   "cell_type": "code",
   "execution_count": 34,
   "metadata": {
    "scrolled": true
   },
   "outputs": [],
   "source": [
    "import xarray as xr"
   ]
  },
  {
   "cell_type": "code",
   "execution_count": 35,
   "metadata": {},
   "outputs": [],
   "source": [
    "def temperature_unnormalize(data):\n",
    "    true_temp = xr.open_mfdataset('data/us_temperature_forecast_true.nc')\n",
    "    m, s = true_temp.mean().load(), true_temp.std().load()\n",
    "    data = data.assign_coords(lon=(((data.lon + 180) % 360) - 180))\n",
    "    data = (data - data.mean().load())/data.std().load()\n",
    "    data = data * s + m - 273.15\n",
    "    data.rename({\"t2m\" : \"celcius\"})\n",
    "    return data\n",
    "\n",
    "def precipitation_unnormalize(data):\n",
    "    true_temp = xr.open_mfdataset('data/us_precipitation_forecast_true.nc')\n",
    "    m, s = true_temp.mean().load(), true_temp.std().load()\n",
    "    data = data.assign_coords(lon=(((data.lon + 180) % 360) - 180))\n",
    "    data = (data - data.mean().load())/data.std().load()\n",
    "    data = data * s + m\n",
    "#     data.rename({\"t2m\" : \"celcius\"})\n",
    "    return data"
   ]
  },
  {
   "cell_type": "code",
   "execution_count": 36,
   "metadata": {},
   "outputs": [],
   "source": [
    "files = ['us_temperature_ann_forecast.nc', \n",
    "'us_temperature_cnn_forecast.nc', \n",
    "'us_temperature_ann_forecast.nc', \n",
    "'us_temperature_hourly_climatology_forecast.nc', \n",
    "'us_temperature_persistence_forecast.nc', \n",
    "'us_temperature_resnet_forecast.nc',\n",
    "'us_temperature_forecast_true.nc']"
   ]
  },
  {
   "cell_type": "code",
   "execution_count": 37,
   "metadata": {},
   "outputs": [
    {
     "name": "stdout",
     "output_type": "stream",
     "text": [
      "data/us_temperature_ann_forecast.nc\n",
      "data/us_temperature_cnn_forecast.nc\n",
      "data/us_temperature_ann_forecast.nc\n",
      "data/us_temperature_hourly_climatology_forecast.nc\n",
      "data/us_temperature_persistence_forecast.nc\n",
      "data/us_temperature_resnet_forecast.nc\n",
      "data/us_temperature_forecast_true.nc\n"
     ]
    }
   ],
   "source": [
    "temp_preds = []\n",
    "names = ['cnn', 'persistence', 'ann', 'resnet', 'climatology', 'linreg', 'true']\n",
    "for i in range(len(files)):\n",
    "    files[i] = 'data/' + files[i]\n",
    "    print(files[i])\n",
    "    a = xr.open_mfdataset(files[i])\n",
    "    a = temperature_unnormalize(a).t2m\n",
    "    a.name = names[i]\n",
    "    temp_preds.append(a)\n",
    "pred_temp = xr.merge(temp_preds)"
   ]
  },
  {
   "cell_type": "code",
   "execution_count": 38,
   "metadata": {},
   "outputs": [],
   "source": [
    "pred_temp.to_dataframe().to_csv('forecasts/temperature_forecasts.csv')"
   ]
  },
  {
   "cell_type": "code",
   "execution_count": 39,
   "metadata": {},
   "outputs": [
    {
     "name": "stdout",
     "output_type": "stream",
     "text": [
      "cnn 1481.253523202561\n",
      "persistence 1269.1903915488804\n",
      "ann 1481.253523202561\n",
      "resnet 1279.7226750354937\n",
      "climatology 1662.1070212233628\n",
      "linreg 1252.4536418566556\n"
     ]
    }
   ],
   "source": [
    "for n in names[:-1]:\n",
    "    error = pred_temp[n].values.flatten() - pred_temp.true.values.flatten()\n",
    "    print(n, (error.T@error)**0.5)"
   ]
  },
  {
   "cell_type": "code",
   "execution_count": null,
   "metadata": {},
   "outputs": [],
   "source": []
  },
  {
   "cell_type": "code",
   "execution_count": 40,
   "metadata": {},
   "outputs": [],
   "source": [
    "files = ['us_precipitation_ann_forecast.nc', \n",
    "'us_precipitation_cnn_forecast.nc', \n",
    "'us_precipitation_ann_forecast.nc', \n",
    "'us_precipitation_hourly_climatology_forecast.nc', \n",
    "'us_precipitation_persistence_forecast.nc', \n",
    "'us_precipitation_resnet_forecast.nc',\n",
    "'us_precipitation_forecast_true.nc']"
   ]
  },
  {
   "cell_type": "code",
   "execution_count": 41,
   "metadata": {},
   "outputs": [
    {
     "name": "stdout",
     "output_type": "stream",
     "text": [
      "data/us_precipitation_ann_forecast.nc\n",
      "data/us_precipitation_cnn_forecast.nc\n",
      "data/us_precipitation_ann_forecast.nc\n",
      "data/us_precipitation_hourly_climatology_forecast.nc\n",
      "data/us_precipitation_persistence_forecast.nc\n",
      "data/us_precipitation_resnet_forecast.nc\n",
      "data/us_precipitation_forecast_true.nc\n"
     ]
    }
   ],
   "source": [
    "temp_preds = []\n",
    "names = ['cnn', 'persistence', 'ann', 'resnet', 'climatology', 'linreg', 'true']\n",
    "for i in range(len(files)):\n",
    "    files[i] = 'data/' + files[i]\n",
    "    print(files[i])\n",
    "    a = xr.open_mfdataset(files[i])\n",
    "    a = precipitation_unnormalize(a).tp\n",
    "    a.name = names[i]\n",
    "    temp_preds.append(a)\n",
    "pred_temp = xr.merge(temp_preds)"
   ]
  },
  {
   "cell_type": "code",
   "execution_count": 42,
   "metadata": {},
   "outputs": [],
   "source": [
    "pred_temp.to_dataframe().to_csv('forecasts/precipitation_forecasts.csv')"
   ]
  },
  {
   "cell_type": "code",
   "execution_count": 43,
   "metadata": {},
   "outputs": [
    {
     "name": "stdout",
     "output_type": "stream",
     "text": [
      "cnn 0.1453465201434373\n",
      "persistence 0.14119590003856441\n",
      "ann 0.1453465201434373\n",
      "resnet 0.14007755851737438\n",
      "climatology 0.15616280387689155\n",
      "linreg 0.1424659196041572\n"
     ]
    }
   ],
   "source": [
    "for n in names[:-1]:\n",
    "    error = pred_temp[n].values.flatten() - pred_temp.true.values.flatten()\n",
    "    print(n, (error.T@error)**0.5)"
   ]
  },
  {
   "cell_type": "code",
   "execution_count": null,
   "metadata": {},
   "outputs": [],
   "source": []
  },
  {
   "cell_type": "code",
   "execution_count": null,
   "metadata": {},
   "outputs": [],
   "source": []
  },
  {
   "cell_type": "code",
   "execution_count": null,
   "metadata": {},
   "outputs": [],
   "source": []
  },
  {
   "cell_type": "code",
   "execution_count": null,
   "metadata": {},
   "outputs": [],
   "source": []
  }
 ],
 "metadata": {
  "kernelspec": {
   "display_name": "Python 3",
   "language": "python",
   "name": "python3"
  },
  "language_info": {
   "codemirror_mode": {
    "name": "ipython",
    "version": 3
   },
   "file_extension": ".py",
   "mimetype": "text/x-python",
   "name": "python",
   "nbconvert_exporter": "python",
   "pygments_lexer": "ipython3",
   "version": "3.8.10"
  }
 },
 "nbformat": 4,
 "nbformat_minor": 2
}
