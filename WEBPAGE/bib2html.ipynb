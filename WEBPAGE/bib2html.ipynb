{
 "cells": [
  {
   "cell_type": "code",
   "execution_count": null,
   "id": "c8a57e29",
   "metadata": {},
   "outputs": [],
   "source": [
    "import bibtexparser\n",
    "from bibtexparser.bparser import BibTexParser\n",
    "\n",
    "def bib_to_html(bib_file):\n",
    "    # Parse the bib file\n",
    "    with open(bib_file) as bibtex_file:\n",
    "        parser = BibTexParser(common_strings=True)\n",
    "        bib_database = bibtexparser.load(bibtex_file, parser=parser)\n",
    "    # Create the HTML string\n",
    "    html_str = \"<ul>\\n\"\n",
    "    for entry in bib_database.entries:\n",
    "        # Get the relevant information from the bib entry\n",
    "        title = entry.get(\"title\", \"\")\n",
    "        authors = entry.get(\"author\", \"\")\n",
    "        journal = entry.get(\"journal\", \"\")\n",
    "        year = entry.get(\"year\", \"\")\n",
    "        url = entry.get(\"url\", \"\")\n",
    "        doi = entry.get(\"doi\", \"\")\n",
    "        # Create the citation string\n",
    "        citation = f\"{authors}: <i>{title}</i>, {journal} ({year})\"\n",
    "        # Add the URL or DOI as a link if available\n",
    "        if url:\n",
    "            citation = f\"<a href='{url}'>{citation}</a>\"\n",
    "        elif doi:\n",
    "            citation = f\"<a href='https://doi.org/{doi}'>{citation}</a>\"\n",
    "        # Add the citation to the HTML string\n",
    "        html_str += f\"<li>{citation}</li>\\n\"\n",
    "    html_str += \"</ul>\"\n",
    "    return html_str\n"
   ]
  },
  {
   "cell_type": "code",
   "execution_count": null,
   "id": "513dd2d0",
   "metadata": {},
   "outputs": [],
   "source": []
  },
  {
   "cell_type": "code",
   "execution_count": 9,
   "id": "91a85010",
   "metadata": {},
   "outputs": [
    {
     "ename": "TypeError",
     "evalue": "format_entry() takes 2 positional arguments but 3 were given",
     "output_type": "error",
     "traceback": [
      "\u001b[0;31m---------------------------------------------------------------------------\u001b[0m",
      "\u001b[0;31mTypeError\u001b[0m                                 Traceback (most recent call last)",
      "Cell \u001b[0;32mIn [9], line 1\u001b[0m\n\u001b[0;32m----> 1\u001b[0m \u001b[43mbib_to_html\u001b[49m\u001b[43m(\u001b[49m\u001b[38;5;124;43m\"\u001b[39;49m\u001b[38;5;124;43megbib-3.bib\u001b[39;49m\u001b[38;5;124;43m\"\u001b[39;49m\u001b[43m)\u001b[49m\n",
      "Cell \u001b[0;32mIn [8], line 54\u001b[0m, in \u001b[0;36mbib_to_html\u001b[0;34m(filename)\u001b[0m\n\u001b[1;32m     51\u001b[0m     \u001b[38;5;28;01mreturn\u001b[39;00m html\n\u001b[1;32m     53\u001b[0m \u001b[38;5;66;03m# Format the BibTeX entries as HTML\u001b[39;00m\n\u001b[0;32m---> 54\u001b[0m html \u001b[38;5;241m=\u001b[39m \u001b[43mformat_entries\u001b[49m\u001b[43m(\u001b[49m\u001b[43mentries\u001b[49m\u001b[43m)\u001b[49m\n\u001b[1;32m     56\u001b[0m \u001b[38;5;66;03m# Return the HTML string\u001b[39;00m\n\u001b[1;32m     57\u001b[0m \u001b[38;5;28;01mreturn\u001b[39;00m html\n",
      "Cell \u001b[0;32mIn [8], line 46\u001b[0m, in \u001b[0;36mbib_to_html.<locals>.format_entries\u001b[0;34m(entries)\u001b[0m\n\u001b[1;32m     44\u001b[0m \u001b[38;5;66;03m# Add each entry to the HTML string\u001b[39;00m\n\u001b[1;32m     45\u001b[0m \u001b[38;5;28;01mfor\u001b[39;00m entry \u001b[38;5;129;01min\u001b[39;00m entries:\n\u001b[0;32m---> 46\u001b[0m     html \u001b[38;5;241m+\u001b[39m\u001b[38;5;241m=\u001b[39m \u001b[43mformat_entry\u001b[49m\u001b[43m(\u001b[49m\u001b[38;5;241;43m*\u001b[39;49m\u001b[43mentry\u001b[49m\u001b[43m)\u001b[49m\n\u001b[1;32m     48\u001b[0m \u001b[38;5;66;03m# Close the HTML string\u001b[39;00m\n\u001b[1;32m     49\u001b[0m html \u001b[38;5;241m+\u001b[39m\u001b[38;5;241m=\u001b[39m \u001b[38;5;124m\"\u001b[39m\u001b[38;5;124m</div>\u001b[39m\u001b[38;5;124m\"\u001b[39m\n",
      "\u001b[0;31mTypeError\u001b[0m: format_entry() takes 2 positional arguments but 3 were given"
     ]
    }
   ],
   "source": [
    "bib_to_html(\"egbib-3.bib\")"
   ]
  },
  {
   "cell_type": "code",
   "execution_count": null,
   "id": "74fd2d86",
   "metadata": {},
   "outputs": [],
   "source": []
  }
 ],
 "metadata": {
  "kernelspec": {
   "display_name": "Python 3 (ipykernel)",
   "language": "python",
   "name": "python3"
  },
  "language_info": {
   "codemirror_mode": {
    "name": "ipython",
    "version": 3
   },
   "file_extension": ".py",
   "mimetype": "text/x-python",
   "name": "python",
   "nbconvert_exporter": "python",
   "pygments_lexer": "ipython3",
   "version": "3.9.1"
  }
 },
 "nbformat": 4,
 "nbformat_minor": 5
}
